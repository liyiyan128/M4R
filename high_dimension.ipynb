{
 "cells": [
  {
   "cell_type": "code",
   "execution_count": 13,
   "metadata": {},
   "outputs": [],
   "source": [
    "from Samplers.sampler_test import *\n",
    "from Samplers.plotting import *\n",
    "import pandas as pd\n",
    "import numpy as np\n",
    "import matplotlib.pyplot as plt\n",
    "from scipy.stats import multivariate_normal, invwishart, dirichlet\n",
    "from tqdm import tqdm\n",
    "import matplotlib.patches as patches\n",
    "import matplotlib.pyplot as plt\n",
    "import seaborn as sns\n",
    "\n",
    "data = pd.read_csv('data/NHANES_adults_data_preprocessed.csv').sample(400)\n"
   ]
  },
  {
   "cell_type": "code",
   "execution_count": null,
   "metadata": {},
   "outputs": [],
   "source": [
    "# Select the columns of interest\n",
    "features = [\n",
    "    'height', 'bmi', 'WHtR', 'sbp', 'dbp',\n",
    "    'eGFR', 'hba1c', 'hdl', 'non_hdl', 'pulse'\n",
    "]\n",
    "data = data[features]\n",
    "#remove rows with NaN values\n",
    "data = data.dropna()\n",
    "# Normalize the data\n",
    "for feature in features:\n",
    "    data[feature] = (data[feature] - data[feature].mean()) / data[feature].std()\n",
    "    "
   ]
  },
  {
   "cell_type": "code",
   "execution_count": 15,
   "metadata": {},
   "outputs": [],
   "source": [
    "from scipy.spatial.distance import pdist\n",
    "\n",
    "def h1(mu):\n",
    "    return np.min(pdist(mu))\n"
   ]
  },
  {
   "cell_type": "code",
   "execution_count": 16,
   "metadata": {},
   "outputs": [
    {
     "name": "stderr",
     "output_type": "stream",
     "text": [
      "Sampling:  12%|█▏        | 1236/10000 [00:05<00:38, 227.04it/s]\n"
     ]
    },
    {
     "ename": "KeyboardInterrupt",
     "evalue": "",
     "output_type": "error",
     "traceback": [
      "\u001b[0;31m---------------------------------------------------------------------------\u001b[0m",
      "\u001b[0;31mKeyboardInterrupt\u001b[0m                         Traceback (most recent call last)",
      "Cell \u001b[0;32mIn[16], line 6\u001b[0m\n\u001b[1;32m      3\u001b[0m K \u001b[38;5;241m=\u001b[39m \u001b[38;5;241m10\u001b[39m\n\u001b[1;32m      4\u001b[0m X \u001b[38;5;241m=\u001b[39m data\u001b[38;5;241m.\u001b[39mto_numpy() \n\u001b[0;32m----> 6\u001b[0m run_samples_rep \u001b[38;5;241m=\u001b[39m \u001b[43mbayesian_repulsive_randomwalk\u001b[49m\u001b[43m(\u001b[49m\u001b[43mX\u001b[49m\u001b[43m,\u001b[49m\u001b[43m \u001b[49m\u001b[43mK\u001b[49m\u001b[43m,\u001b[49m\u001b[43m \u001b[49m\u001b[43mnum_iterations\u001b[49m\u001b[43m,\u001b[49m\u001b[43m \u001b[49m\u001b[43mh1\u001b[49m\u001b[43m,\u001b[49m\u001b[43m \u001b[49m\u001b[43mburn_in\u001b[49m\u001b[38;5;241;43m=\u001b[39;49m\u001b[38;5;241;43m2000\u001b[39;49m\u001b[43m,\u001b[49m\u001b[43m \u001b[49m\u001b[43msig\u001b[49m\u001b[38;5;241;43m=\u001b[39;49m\u001b[43msig\u001b[49m\u001b[43m)\u001b[49m\n",
      "File \u001b[0;32m~/Desktop/M4R/Samplers/sampler_test.py:224\u001b[0m, in \u001b[0;36mbayesian_repulsive_randomwalk\u001b[0;34m(X, K, num_iterations, h, burn_in, sig)\u001b[0m\n\u001b[1;32m    221\u001b[0m n_k \u001b[38;5;241m=\u001b[39m \u001b[38;5;28mlen\u001b[39m(X_k)\n\u001b[1;32m    222\u001b[0m \u001b[38;5;28;01mif\u001b[39;00m n_k \u001b[38;5;241m>\u001b[39m \u001b[38;5;241m0\u001b[39m:\n\u001b[1;32m    223\u001b[0m     \u001b[38;5;66;03m#propse new mu_k using random walk\u001b[39;00m\n\u001b[0;32m--> 224\u001b[0m     mu_proposed \u001b[38;5;241m=\u001b[39m \u001b[43mnp\u001b[49m\u001b[38;5;241;43m.\u001b[39;49m\u001b[43mrandom\u001b[49m\u001b[38;5;241;43m.\u001b[39;49m\u001b[43mmultivariate_normal\u001b[49m\u001b[43m(\u001b[49m\u001b[43mmu\u001b[49m\u001b[43m[\u001b[49m\u001b[43mk\u001b[49m\u001b[43m]\u001b[49m\u001b[43m,\u001b[49m\u001b[43m \u001b[49m\u001b[43msig\u001b[49m\u001b[38;5;241;43m*\u001b[39;49m\u001b[38;5;241;43m*\u001b[39;49m\u001b[38;5;241;43m2\u001b[39;49m\u001b[38;5;241;43m*\u001b[39;49m\u001b[43mnp\u001b[49m\u001b[38;5;241;43m.\u001b[39;49m\u001b[43meye\u001b[49m\u001b[43m(\u001b[49m\u001b[43mp\u001b[49m\u001b[43m)\u001b[49m\u001b[43m)\u001b[49m\n\u001b[1;32m    225\u001b[0m     \u001b[38;5;66;03m#compute the acceptance probability\u001b[39;00m\n\u001b[1;32m    226\u001b[0m     proposed_mu \u001b[38;5;241m=\u001b[39m mu\u001b[38;5;241m.\u001b[39mcopy()\n",
      "File \u001b[0;32mnumpy/random/mtrand.pyx:4251\u001b[0m, in \u001b[0;36mnumpy.random.mtrand.RandomState.multivariate_normal\u001b[0;34m()\u001b[0m\n",
      "File \u001b[0;32m~/Desktop/M4R/myvenv/lib/python3.13/site-packages/numpy/linalg/_linalg.py:1809\u001b[0m, in \u001b[0;36msvd\u001b[0;34m(a, full_matrices, compute_uv, hermitian)\u001b[0m\n\u001b[1;32m   1806\u001b[0m     gufunc \u001b[38;5;241m=\u001b[39m _umath_linalg\u001b[38;5;241m.\u001b[39msvd_s\n\u001b[1;32m   1808\u001b[0m signature \u001b[38;5;241m=\u001b[39m \u001b[38;5;124m'\u001b[39m\u001b[38;5;124mD->DdD\u001b[39m\u001b[38;5;124m'\u001b[39m \u001b[38;5;28;01mif\u001b[39;00m isComplexType(t) \u001b[38;5;28;01melse\u001b[39;00m \u001b[38;5;124m'\u001b[39m\u001b[38;5;124md->ddd\u001b[39m\u001b[38;5;124m'\u001b[39m\n\u001b[0;32m-> 1809\u001b[0m \u001b[38;5;28;01mwith\u001b[39;00m \u001b[43merrstate\u001b[49m\u001b[43m(\u001b[49m\u001b[43mcall\u001b[49m\u001b[38;5;241;43m=\u001b[39;49m\u001b[43m_raise_linalgerror_svd_nonconvergence\u001b[49m\u001b[43m,\u001b[49m\n\u001b[1;32m   1810\u001b[0m \u001b[43m              \u001b[49m\u001b[43minvalid\u001b[49m\u001b[38;5;241;43m=\u001b[39;49m\u001b[38;5;124;43m'\u001b[39;49m\u001b[38;5;124;43mcall\u001b[39;49m\u001b[38;5;124;43m'\u001b[39;49m\u001b[43m,\u001b[49m\u001b[43m \u001b[49m\u001b[43mover\u001b[49m\u001b[38;5;241;43m=\u001b[39;49m\u001b[38;5;124;43m'\u001b[39;49m\u001b[38;5;124;43mignore\u001b[39;49m\u001b[38;5;124;43m'\u001b[39;49m\u001b[43m,\u001b[49m\u001b[43m \u001b[49m\u001b[43mdivide\u001b[49m\u001b[38;5;241;43m=\u001b[39;49m\u001b[38;5;124;43m'\u001b[39;49m\u001b[38;5;124;43mignore\u001b[39;49m\u001b[38;5;124;43m'\u001b[39;49m\u001b[43m,\u001b[49m\n\u001b[1;32m   1811\u001b[0m \u001b[43m              \u001b[49m\u001b[43munder\u001b[49m\u001b[38;5;241;43m=\u001b[39;49m\u001b[38;5;124;43m'\u001b[39;49m\u001b[38;5;124;43mignore\u001b[39;49m\u001b[38;5;124;43m'\u001b[39;49m\u001b[43m)\u001b[49m:\n\u001b[1;32m   1812\u001b[0m     u, s, vh \u001b[38;5;241m=\u001b[39m gufunc(a, signature\u001b[38;5;241m=\u001b[39msignature)\n\u001b[1;32m   1813\u001b[0m u \u001b[38;5;241m=\u001b[39m u\u001b[38;5;241m.\u001b[39mastype(result_t, copy\u001b[38;5;241m=\u001b[39m\u001b[38;5;28;01mFalse\u001b[39;00m)\n",
      "File \u001b[0;32m~/Desktop/M4R/myvenv/lib/python3.13/site-packages/numpy/_core/_ufunc_config.py:456\u001b[0m, in \u001b[0;36merrstate.__exit__\u001b[0;34m(self, *exc_info)\u001b[0m\n\u001b[1;32m    449\u001b[0m         extobj \u001b[38;5;241m=\u001b[39m _make_extobj(\n\u001b[1;32m    450\u001b[0m                 call\u001b[38;5;241m=\u001b[39m\u001b[38;5;28mself\u001b[39m\u001b[38;5;241m.\u001b[39m_call,\n\u001b[1;32m    451\u001b[0m                 \u001b[38;5;28mall\u001b[39m\u001b[38;5;241m=\u001b[39m\u001b[38;5;28mself\u001b[39m\u001b[38;5;241m.\u001b[39m_all, divide\u001b[38;5;241m=\u001b[39m\u001b[38;5;28mself\u001b[39m\u001b[38;5;241m.\u001b[39m_divide, over\u001b[38;5;241m=\u001b[39m\u001b[38;5;28mself\u001b[39m\u001b[38;5;241m.\u001b[39m_over,\n\u001b[1;32m    452\u001b[0m                 under\u001b[38;5;241m=\u001b[39m\u001b[38;5;28mself\u001b[39m\u001b[38;5;241m.\u001b[39m_under, invalid\u001b[38;5;241m=\u001b[39m\u001b[38;5;28mself\u001b[39m\u001b[38;5;241m.\u001b[39m_invalid)\n\u001b[1;32m    454\u001b[0m     \u001b[38;5;28mself\u001b[39m\u001b[38;5;241m.\u001b[39m_token \u001b[38;5;241m=\u001b[39m _extobj_contextvar\u001b[38;5;241m.\u001b[39mset(extobj)\n\u001b[0;32m--> 456\u001b[0m \u001b[38;5;28;01mdef\u001b[39;00m\u001b[38;5;250m \u001b[39m\u001b[38;5;21m__exit__\u001b[39m(\u001b[38;5;28mself\u001b[39m, \u001b[38;5;241m*\u001b[39mexc_info):\n\u001b[1;32m    457\u001b[0m     _extobj_contextvar\u001b[38;5;241m.\u001b[39mreset(\u001b[38;5;28mself\u001b[39m\u001b[38;5;241m.\u001b[39m_token)\n\u001b[1;32m    459\u001b[0m \u001b[38;5;28;01mdef\u001b[39;00m\u001b[38;5;250m \u001b[39m\u001b[38;5;21m__call__\u001b[39m(\u001b[38;5;28mself\u001b[39m, func):\n\u001b[1;32m    460\u001b[0m     \u001b[38;5;66;03m# We need to customize `__call__` compared to `ContextDecorator`\u001b[39;00m\n\u001b[1;32m    461\u001b[0m     \u001b[38;5;66;03m# because we must store the token per-thread so cannot store it on\u001b[39;00m\n\u001b[1;32m    462\u001b[0m     \u001b[38;5;66;03m# the instance (we could create a new instance for this).\u001b[39;00m\n\u001b[1;32m    463\u001b[0m     \u001b[38;5;66;03m# This duplicates the code from `__enter__`.\u001b[39;00m\n",
      "\u001b[0;31mKeyboardInterrupt\u001b[0m: "
     ]
    }
   ],
   "source": [
    "sig = 0.05\n",
    "num_iterations = 10000\n",
    "K = 10\n",
    "X = data.to_numpy() \n",
    "\n",
    "run_samples_rep = bayesian_repulsive_randomwalk(X, K, num_iterations, h1, burn_in=2000, sig=sig)"
   ]
  },
  {
   "cell_type": "code",
   "execution_count": null,
   "metadata": {},
   "outputs": [],
   "source": [
    "import matplotlib.pyplot as plt\n",
    "import numpy as np\n",
    "\n",
    "# Extract mu samples from the non-repulsive sampler\n",
    "mu_samples = np.array([s[1] for s in run_samples_rep])  # shape: (T, K, p)\n",
    "T, K, p = mu_samples.shape\n",
    "feature_names = data.columns  # assuming this has p features\n",
    "\n",
    "# === Choose a few (k, d) pairs to visualize ===\n",
    "plot_targets = [\n",
    "    (0, 0),  # Cluster 1, height\n",
    "    (1, 0),  # Cluster 2, height\n",
    "    (0, 1),  # Cluster 1, bmi\n",
    "    (1, 1),  # Cluster 2, bmi\n",
    "]\n",
    "\n",
    "# === Plot trace plots ===\n",
    "for (k, d) in plot_targets:\n",
    "    plt.figure(figsize=(10, 3))\n",
    "    plt.plot(mu_samples[:, k, d], alpha=0.8)\n",
    "    plt.title(f'Trace Plot: $\\mu_{{Cluster={k+1}, Feature={feature_names[d]}}}$')\n",
    "    plt.xlabel('Iteration')\n",
    "    plt.ylabel('Value')\n",
    "    plt.grid(True)\n",
    "    plt.tight_layout()\n",
    "    plt.show()"
   ]
  },
  {
   "cell_type": "code",
   "execution_count": null,
   "metadata": {},
   "outputs": [],
   "source": [
    "# mu_samples shape is (T, K, p)\n",
    "# T is the number of samples, K is the number of clusters, and p is the number of features\n",
    "mu_samples = np.array([s[1] for s in run_samples_rep])  # extract mu\n",
    "T, K, p = mu_samples.shape\n",
    "feature_names = data.columns\n",
    "for d in range(p):\n",
    "    plt.figure(figsize=(10, 6))\n",
    "    \n",
    "    # Plot the distribution of mu_k[:, d] for each cluster\n",
    "    for k in range(K):\n",
    "        values = mu_samples[:, k, d]  # T samples for mu_k, feature d\n",
    "        sns.kdeplot(values, label=f'Cluster {k+1}', fill=True, alpha=0.3)\n",
    "\n",
    "    plt.title(f'Posterior Means for {feature_names[d]}')\n",
    "    plt.xlabel(feature_names[d])\n",
    "    plt.ylabel('Density')\n",
    "    plt.legend(title='Cluster')\n",
    "    plt.tight_layout()\n",
    "    plt.show()"
   ]
  },
  {
   "cell_type": "code",
   "execution_count": null,
   "metadata": {},
   "outputs": [],
   "source": [
    "num_iterations = 10000\n",
    "K = 10\n",
    "X = data.to_numpy() \n",
    "\n",
    "run_samples_nonrep = gibbs_sampler_gmm_multivariate(X, K, num_iterations, burn_in=2000)"
   ]
  },
  {
   "cell_type": "code",
   "execution_count": null,
   "metadata": {},
   "outputs": [],
   "source": [
    "import matplotlib.pyplot as plt\n",
    "import numpy as np\n",
    "\n",
    "# Extract mu samples from the non-repulsive sampler\n",
    "mu_samples = np.array([s[1] for s in run_samples_nonrep])  # shape: (T, K, p)\n",
    "T, K, p = mu_samples.shape\n",
    "feature_names = data.columns  # assuming this has p features\n",
    "\n",
    "# === Choose a few (k, d) pairs to visualize ===\n",
    "plot_targets = [\n",
    "    (0, 0),  # Cluster 1, height\n",
    "    (1, 0),  # Cluster 2, height\n",
    "    (0, 1),  # Cluster 1, bmi\n",
    "    (1, 1),  # Cluster 2, bmi\n",
    "]\n",
    "\n",
    "# === Plot trace plots ===\n",
    "for (k, d) in plot_targets:\n",
    "    plt.figure(figsize=(10, 3))\n",
    "    plt.plot(mu_samples[:, k, d], alpha=0.8)\n",
    "    plt.title(f'Trace Plot: $\\mu_{{Cluster={k+1}, Feature={feature_names[d]}}}$')\n",
    "    plt.xlabel('Iteration')\n",
    "    plt.ylabel('Value')\n",
    "    plt.grid(True)\n",
    "    plt.tight_layout()\n",
    "    plt.show()"
   ]
  },
  {
   "cell_type": "code",
   "execution_count": null,
   "metadata": {},
   "outputs": [],
   "source": [
    "for d in range(p):\n",
    "    plt.figure(figsize=(10, 6))\n",
    "    \n",
    "    # Plot the distribution of mu_k[:, d] for each cluster\n",
    "    for k in range(K):\n",
    "        values = mu_samples[:, k, d]  # T samples for mu_k, feature d\n",
    "        sns.kdeplot(values, label=f'Cluster {k+1}', fill=True, alpha=0.3)\n",
    "\n",
    "    plt.title(f'Posterior Means for {feature_names[d]}')\n",
    "    plt.xlabel(feature_names[d])\n",
    "    plt.ylabel('Density')\n",
    "    plt.legend(title='Cluster')\n",
    "    plt.tight_layout()\n",
    "    plt.show()"
   ]
  },
  {
   "cell_type": "code",
   "execution_count": null,
   "metadata": {},
   "outputs": [],
   "source": [
    "import numpy as np\n",
    "import matplotlib.pyplot as plt\n",
    "from scipy.spatial.distance import pdist\n",
    "\n",
    "def compute_distance_trace(mu_samples, mode='min'):\n",
    "    \"\"\"\n",
    "    Computes a trace of distance statistics (min, mean, max) between cluster means.\n",
    "\n",
    "    Parameters:\n",
    "        mu_samples: ndarray of shape (T, K, p)\n",
    "        mode: str, 'min', 'mean', or 'max'\n",
    "\n",
    "    Returns:\n",
    "        trace: ndarray of shape (T,)\n",
    "    \"\"\"\n",
    "    trace = []\n",
    "    for mu in mu_samples:\n",
    "        dists = pdist(mu)  # All pairwise Euclidean distances between cluster means\n",
    "        if mode == 'min':\n",
    "            trace.append(np.min(dists))\n",
    "        elif mode == 'mean':\n",
    "            trace.append(np.mean(dists))\n",
    "        elif mode == 'max':\n",
    "            trace.append(np.max(dists))\n",
    "        else:\n",
    "            raise ValueError(\"mode must be 'min', 'mean', or 'max'\")\n",
    "    return np.array(trace)\n",
    "\n",
    "# === Extract mu samples ===\n",
    "mu_rep = np.array([s[1] for s in run_samples_rep])     # shape: (T, K, p)\n",
    "mu_norep = np.array([s[1] for s in run_samples_nonrep]) # shape: (T, K, p)\n",
    "\n",
    "# === Compute distance traces ===\n",
    "dist_min_rep = compute_distance_trace(mu_rep, mode='min')\n",
    "dist_mean_rep = compute_distance_trace(mu_rep, mode='mean')\n",
    "\n",
    "dist_min_norep = compute_distance_trace(mu_norep, mode='min')\n",
    "dist_mean_norep = compute_distance_trace(mu_norep, mode='mean')\n",
    "\n",
    "# === Plotting ===\n",
    "plt.figure(figsize=(14, 5))\n",
    "\n",
    "# --- Minimum Distance Trace ---\n",
    "plt.subplot(1, 2, 1)\n",
    "plt.plot(dist_min_norep, label='No Repulsion', color='tab:blue', alpha=0.7)\n",
    "plt.plot(dist_min_rep, label='With Repulsion (h1)', color='tab:red', alpha=0.7)\n",
    "plt.title('Minimum Distance Between Cluster Means')\n",
    "plt.xlabel('Iteration')\n",
    "plt.ylabel('Min Distance')\n",
    "plt.legend()\n",
    "plt.grid(True)\n",
    "\n",
    "# --- Mean Distance Trace ---\n",
    "plt.subplot(1, 2, 2)\n",
    "plt.plot(dist_mean_norep, label='No Repulsion', color='tab:blue', alpha=0.7)\n",
    "plt.plot(dist_mean_rep, label='With Repulsion (h1)', color='tab:red', alpha=0.7)\n",
    "plt.title('Mean Distance Between Cluster Means')\n",
    "plt.xlabel('Iteration')\n",
    "plt.ylabel('Mean Distance')\n",
    "plt.legend()\n",
    "plt.grid(True)\n",
    "\n",
    "plt.tight_layout()\n",
    "plt.show()"
   ]
  }
 ],
 "metadata": {
  "kernelspec": {
   "display_name": "myvenv",
   "language": "python",
   "name": "python3"
  },
  "language_info": {
   "codemirror_mode": {
    "name": "ipython",
    "version": 3
   },
   "file_extension": ".py",
   "mimetype": "text/x-python",
   "name": "python",
   "nbconvert_exporter": "python",
   "pygments_lexer": "ipython3",
   "version": "3.13.1"
  }
 },
 "nbformat": 4,
 "nbformat_minor": 2
}
